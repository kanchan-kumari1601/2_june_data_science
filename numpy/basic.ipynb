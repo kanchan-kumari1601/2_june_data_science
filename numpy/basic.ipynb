{
 "cells": [
  {
   "cell_type": "markdown",
   "id": "fca22ae5",
   "metadata": {},
   "source": [
    "#### Numpy"
   ]
  },
  {
   "cell_type": "code",
   "execution_count": 1,
   "id": "548334cf",
   "metadata": {},
   "outputs": [
    {
     "name": "stdout",
     "output_type": "stream",
     "text": [
      "Requirement already satisfied: numpy in c:\\users\\asus\\appdata\\local\\programs\\python\\python311\\lib\\site-packages (2.3.0)\n",
      "Note: you may need to restart the kernel to use updated packages.\n"
     ]
    },
    {
     "name": "stderr",
     "output_type": "stream",
     "text": [
      "\n",
      "[notice] A new release of pip is available: 23.2.1 -> 25.1.1\n",
      "[notice] To update, run: python.exe -m pip install --upgrade pip\n"
     ]
    }
   ],
   "source": [
    "#!pip install numpy\n",
    "#pip install numpy\n",
    "%pip install numpy"
   ]
  },
  {
   "cell_type": "code",
   "execution_count": 2,
   "id": "b77c44fb",
   "metadata": {},
   "outputs": [
    {
     "name": "stdout",
     "output_type": "stream",
     "text": [
      "2.3.0\n"
     ]
    }
   ],
   "source": [
    "import numpy as np  ##import is keyword, as is alias, np is alias\n",
    "print(np.__version__)"
   ]
  },
  {
   "cell_type": "code",
   "execution_count": 3,
   "id": "2fe286a1",
   "metadata": {},
   "outputs": [],
   "source": [
    "lst=list(range(1,25))"
   ]
  },
  {
   "cell_type": "code",
   "execution_count": 4,
   "id": "0ef28c83",
   "metadata": {},
   "outputs": [
    {
     "data": {
      "text/plain": [
       "list"
      ]
     },
     "execution_count": 4,
     "metadata": {},
     "output_type": "execute_result"
    }
   ],
   "source": [
    "type(lst)"
   ]
  },
  {
   "cell_type": "code",
   "execution_count": 5,
   "id": "f2f3dbc0",
   "metadata": {},
   "outputs": [],
   "source": [
    "#array and list\n",
    "\n",
    "#array is homogenous\n",
    "#list is heterogemous\n",
    "\n",
    "#list conert into arrat\n",
    "\n",
    "arr=np.array(lst)"
   ]
  },
  {
   "cell_type": "code",
   "execution_count": 6,
   "metadata": {},
   "outputs": [
    {
     "data": {
      "text/plain": [
       "numpy.ndarray"
      ]
     },
     "execution_count": 6,
     "metadata": {},
     "output_type": "execute_result"
    }
   ],
   "source": [
    "type(arr)"
   ]
  },
  {
   "cell_type": "code",
   "execution_count": 8,
   "metadata": {},
   "outputs": [
    {
     "data": {
      "text/plain": [
       "array([1, 2, 3, 4, 5, 6, 7, 8, 9, 5, 6])"
      ]
     },
     "execution_count": 8,
     "metadata": {},
     "output_type": "execute_result"
    }
   ],
   "source": [
    "arr=np.array([1,2,3,4,5,6,7,8,9,5,6])\n",
    "arr"
   ]
  },
  {
   "cell_type": "code",
   "execution_count": 13,
   "metadata": {},
   "outputs": [],
   "source": [
    "arr=np.arange(1,25)"
   ]
  },
  {
   "cell_type": "code",
   "execution_count": 14,
   "id": "261e4a8c",
   "metadata": {},
   "outputs": [
    {
     "data": {
      "text/plain": [
       "array([ 1,  2,  3,  4,  5,  6,  7,  8,  9, 10, 11, 12, 13, 14, 15, 16, 17,\n",
       "       18, 19, 20, 21, 22, 23, 24])"
      ]
     },
     "execution_count": 14,
     "metadata": {},
     "output_type": "execute_result"
    }
   ],
   "source": [
    "arr"
   ]
  },
  {
   "cell_type": "code",
   "execution_count": 15,
   "metadata": {},
   "outputs": [
    {
     "data": {
      "text/plain": [
       "array([0., 0., 0., 0., 0., 0., 0., 0., 0., 0.])"
      ]
     },
     "execution_count": 15,
     "metadata": {},
     "output_type": "execute_result"
    }
   ],
   "source": [
    "arr=np.zeros(10)\n",
    "arr"
   ]
  },
  {
   "cell_type": "code",
   "execution_count": 16,
   "metadata": {},
   "outputs": [
    {
     "data": {
      "text/plain": [
       "array([[0., 0., 0., 0., 0., 0., 0., 0., 0., 0.],\n",
       "       [0., 0., 0., 0., 0., 0., 0., 0., 0., 0.],\n",
       "       [0., 0., 0., 0., 0., 0., 0., 0., 0., 0.],\n",
       "       [0., 0., 0., 0., 0., 0., 0., 0., 0., 0.],\n",
       "       [0., 0., 0., 0., 0., 0., 0., 0., 0., 0.]])"
      ]
     },
     "execution_count": 16,
     "metadata": {},
     "output_type": "execute_result"
    }
   ],
   "source": [
    "arr=np.zeros((5,10))  ## 5 row 10 colum\n",
    "arr"
   ]
  },
  {
   "cell_type": "code",
   "execution_count": 18,
   "metadata": {},
   "outputs": [
    {
     "data": {
      "text/plain": [
       "array([[1., 1., 1., 1., 1., 1., 1., 1., 1., 1.],\n",
       "       [1., 1., 1., 1., 1., 1., 1., 1., 1., 1.],\n",
       "       [1., 1., 1., 1., 1., 1., 1., 1., 1., 1.],\n",
       "       [1., 1., 1., 1., 1., 1., 1., 1., 1., 1.],\n",
       "       [1., 1., 1., 1., 1., 1., 1., 1., 1., 1.],\n",
       "       [1., 1., 1., 1., 1., 1., 1., 1., 1., 1.],\n",
       "       [1., 1., 1., 1., 1., 1., 1., 1., 1., 1.],\n",
       "       [1., 1., 1., 1., 1., 1., 1., 1., 1., 1.],\n",
       "       [1., 1., 1., 1., 1., 1., 1., 1., 1., 1.],\n",
       "       [1., 1., 1., 1., 1., 1., 1., 1., 1., 1.]])"
      ]
     },
     "execution_count": 18,
     "metadata": {},
     "output_type": "execute_result"
    }
   ],
   "source": [
    "arr=np.ones((10,10))\n",
    "arr"
   ]
  },
  {
   "cell_type": "code",
   "execution_count": 20,
   "id": "2bd61187",
   "metadata": {},
   "outputs": [
    {
     "data": {
      "text/plain": [
       "array([ 1.  ,  3.25,  5.5 ,  7.75, 10.  ])"
      ]
     },
     "execution_count": 20,
     "metadata": {},
     "output_type": "execute_result"
    }
   ],
   "source": [
    "arr=np.linspace(1,10,5)  ##random five no. between 1 to 10 \n",
    "arr"
   ]
  },
  {
   "cell_type": "code",
   "execution_count": 21,
   "id": "f72ff0a1",
   "metadata": {},
   "outputs": [],
   "source": [
    "arr=np.arange(0,30)"
   ]
  },
  {
   "cell_type": "code",
   "execution_count": 22,
   "metadata": {},
   "outputs": [
    {
     "data": {
      "text/plain": [
       "array([[ 0,  1,  2],\n",
       "       [ 3,  4,  5],\n",
       "       [ 6,  7,  8],\n",
       "       [ 9, 10, 11],\n",
       "       [12, 13, 14],\n",
       "       [15, 16, 17],\n",
       "       [18, 19, 20],\n",
       "       [21, 22, 23],\n",
       "       [24, 25, 26],\n",
       "       [27, 28, 29]])"
      ]
     },
     "execution_count": 22,
     "metadata": {},
     "output_type": "execute_result"
    }
   ],
   "source": [
    "arr.reshape(10,3) ##3 columns or 10 rows"
   ]
  },
  {
   "cell_type": "code",
   "execution_count": 24,
   "metadata": {},
   "outputs": [
    {
     "data": {
      "text/plain": [
       "array([3, 1, 3, 3, 2, 1, 1, 3, 3], dtype=int32)"
      ]
     },
     "execution_count": 24,
     "metadata": {},
     "output_type": "execute_result"
    }
   ],
   "source": [
    "arr=np.random.randint(1,5,9)\n",
    "arr"
   ]
  },
  {
   "cell_type": "code",
   "execution_count": 25,
   "id": "913ade81",
   "metadata": {},
   "outputs": [],
   "source": [
    "arr=np.random.random(10)"
   ]
  },
  {
   "cell_type": "code",
   "execution_count": 26,
   "id": "611bcd5c",
   "metadata": {},
   "outputs": [
    {
     "data": {
      "text/plain": [
       "array([0.88815714, 0.12561496, 0.35312308, 0.62168787, 0.58511957,\n",
       "       0.74640626, 0.61189914, 0.65497988, 0.68317089, 0.32035087])"
      ]
     },
     "execution_count": 26,
     "metadata": {},
     "output_type": "execute_result"
    }
   ],
   "source": [
    "arr"
   ]
  },
  {
   "cell_type": "code",
   "execution_count": 27,
   "id": "6f692fea",
   "metadata": {},
   "outputs": [
    {
     "data": {
      "text/plain": [
       "array([[0.46269553, 0.390817  , 0.68793464, 0.78952643, 0.97481411,\n",
       "        0.05157879, 0.70096385, 0.55530845, 0.08379647, 0.73267038],\n",
       "       [0.61488637, 0.40066628, 0.06125243, 0.57744755, 0.62996505,\n",
       "        0.10951834, 0.69384573, 0.72463487, 0.48932095, 0.53789479],\n",
       "       [0.66040059, 0.16496202, 0.43280516, 0.36729581, 0.88359622,\n",
       "        0.09523284, 0.13096067, 0.04513167, 0.5036999 , 0.30873678],\n",
       "       [0.66830319, 0.79508151, 0.73787096, 0.20074509, 0.01008294,\n",
       "        0.71969298, 0.74308729, 0.17369865, 0.03832642, 0.33949672],\n",
       "       [0.71167878, 0.0525987 , 0.14473984, 0.15853617, 0.01330092,\n",
       "        0.29664921, 0.96142727, 0.75301501, 0.50213563, 0.81187429]])"
      ]
     },
     "execution_count": 27,
     "metadata": {},
     "output_type": "execute_result"
    }
   ],
   "source": [
    "np.random.random((5,10))"
   ]
  },
  {
   "cell_type": "markdown",
   "id": "494c108b",
   "metadata": {},
   "source": [
    "### Array Attribute"
   ]
  },
  {
   "cell_type": "code",
   "execution_count": 28,
   "metadata": {},
   "outputs": [
    {
     "data": {
      "text/plain": [
       "array([[ 0,  1,  2,  3,  4],\n",
       "       [ 5,  6,  7,  8,  9],\n",
       "       [10, 11, 12, 13, 14],\n",
       "       [15, 16, 17, 18, 19],\n",
       "       [20, 21, 22, 23, 24],\n",
       "       [25, 26, 27, 28, 29],\n",
       "       [30, 31, 32, 33, 34],\n",
       "       [35, 36, 37, 38, 39],\n",
       "       [40, 41, 42, 43, 44],\n",
       "       [45, 46, 47, 48, 49],\n",
       "       [50, 51, 52, 53, 54],\n",
       "       [55, 56, 57, 58, 59]])"
      ]
     },
     "execution_count": 28,
     "metadata": {},
     "output_type": "execute_result"
    }
   ],
   "source": [
    "arr=np.arange(60).reshape(12,5)  #12 row and 5 column\n",
    "arr"
   ]
  },
  {
   "cell_type": "code",
   "execution_count": 29,
   "metadata": {},
   "outputs": [
    {
     "name": "stdout",
     "output_type": "stream",
     "text": [
      "array shape:- (12, 5)\n",
      "array size:- 60\n",
      "array datatype:- int64\n",
      "array ndim:- 2\n"
     ]
    }
   ],
   "source": [
    "print(\"array shape:-\",arr.shape)\n",
    "print(\"array size:-\",arr.size)\n",
    "print(\"array datatype:-\",arr.dtype)\n",
    "print(\"array ndim:-\",arr.ndim)\n"
   ]
  },
  {
   "cell_type": "code",
   "execution_count": 30,
   "metadata": {},
   "outputs": [
    {
     "name": "stdout",
     "output_type": "stream",
     "text": [
      "array shape:- (60,)\n",
      "array size:- 60\n",
      "array datatype:- int64\n",
      "array ndim:- 1\n"
     ]
    }
   ],
   "source": [
    "#2d array convert into 1d\n",
    "\n",
    "arr=arr.flatten()\n",
    "print(\"array shape:-\",arr.shape)\n",
    "print(\"array size:-\",arr.size)\n",
    "print(\"array datatype:-\",arr.dtype)\n",
    "print(\"array ndim:-\",arr.ndim)\n"
   ]
  },
  {
   "cell_type": "code",
   "execution_count": 31,
   "metadata": {},
   "outputs": [],
   "source": [
    "lst=[[1,2,3],[4,5,6]]"
   ]
  },
  {
   "cell_type": "code",
   "execution_count": 32,
   "id": "01112e83",
   "metadata": {},
   "outputs": [
    {
     "data": {
      "text/plain": [
       "array([[1, 2, 3],\n",
       "       [4, 5, 6]])"
      ]
     },
     "execution_count": 32,
     "metadata": {},
     "output_type": "execute_result"
    }
   ],
   "source": [
    "arr=np.array(lst)\n",
    "arr"
   ]
  },
  {
   "cell_type": "code",
   "execution_count": 33,
   "id": "9215a460",
   "metadata": {},
   "outputs": [
    {
     "data": {
      "text/plain": [
       "(2, 3)"
      ]
     },
     "execution_count": 33,
     "metadata": {},
     "output_type": "execute_result"
    }
   ],
   "source": [
    "arr.shape"
   ]
  },
  {
   "cell_type": "code",
   "execution_count": 34,
   "id": "3eb2a07f",
   "metadata": {},
   "outputs": [
    {
     "data": {
      "text/plain": [
       "array([[1, 4],\n",
       "       [2, 5],\n",
       "       [3, 6]])"
      ]
     },
     "execution_count": 34,
     "metadata": {},
     "output_type": "execute_result"
    }
   ],
   "source": [
    "arr.T"
   ]
  },
  {
   "cell_type": "markdown",
   "id": "707adb80",
   "metadata": {},
   "source": [
    "### Accessing element from array 1D and 2D array\n",
    "for 1D array\n",
    "[row start:row end:row step]\n",
    "\n",
    "for 2D array\n",
    "[row start:row end:row step]"
   ]
  },
  {
   "cell_type": "code",
   "execution_count": 39,
   "id": "5ad0b84a",
   "metadata": {},
   "outputs": [],
   "source": [
    "arr=np.arange(60)\n"
   ]
  },
  {
   "cell_type": "code",
   "execution_count": 41,
   "id": "8c1856ca",
   "metadata": {},
   "outputs": [
    {
     "data": {
      "text/plain": [
       "array([ 0,  1,  2,  3,  4,  5,  6,  7,  8,  9, 10, 11, 12, 13, 14, 15, 16,\n",
       "       17, 18, 19, 20, 21, 22, 23, 24, 25, 26, 27, 28, 29, 30, 31, 32, 33,\n",
       "       34, 35, 36, 37, 38, 39, 40, 41, 42, 43, 44, 45, 46, 47, 48, 49, 50,\n",
       "       51, 52, 53, 54, 55, 56, 57, 58, 59])"
      ]
     },
     "execution_count": 41,
     "metadata": {},
     "output_type": "execute_result"
    }
   ],
   "source": [
    "arr"
   ]
  },
  {
   "cell_type": "code",
   "execution_count": 42,
   "id": "18690c31",
   "metadata": {},
   "outputs": [
    {
     "data": {
      "text/plain": [
       "array([ 0,  2,  4,  6,  8, 10, 12, 14, 16, 18, 20, 22, 24])"
      ]
     },
     "execution_count": 42,
     "metadata": {},
     "output_type": "execute_result"
    }
   ],
   "source": [
    "arr[0:25:2]"
   ]
  },
  {
   "cell_type": "code",
   "execution_count": 43,
   "id": "80b96254",
   "metadata": {},
   "outputs": [
    {
     "data": {
      "text/plain": [
       "array([[ 0,  1,  2,  3,  4],\n",
       "       [ 5,  6,  7,  8,  9],\n",
       "       [10, 11, 12, 13, 14],\n",
       "       [15, 16, 17, 18, 19],\n",
       "       [20, 21, 22, 23, 24],\n",
       "       [25, 26, 27, 28, 29],\n",
       "       [30, 31, 32, 33, 34],\n",
       "       [35, 36, 37, 38, 39],\n",
       "       [40, 41, 42, 43, 44],\n",
       "       [45, 46, 47, 48, 49],\n",
       "       [50, 51, 52, 53, 54],\n",
       "       [55, 56, 57, 58, 59]])"
      ]
     },
     "execution_count": 43,
     "metadata": {},
     "output_type": "execute_result"
    }
   ],
   "source": [
    "arr=arr.reshape(12,5)\n",
    "arr"
   ]
  },
  {
   "cell_type": "code",
   "execution_count": 44,
   "id": "55b2d168",
   "metadata": {},
   "outputs": [
    {
     "data": {
      "text/plain": [
       "array([5, 6, 7, 8, 9])"
      ]
     },
     "execution_count": 44,
     "metadata": {},
     "output_type": "execute_result"
    }
   ],
   "source": [
    "arr[1]"
   ]
  },
  {
   "cell_type": "code",
   "execution_count": 45,
   "id": "579c52e7",
   "metadata": {},
   "outputs": [
    {
     "data": {
      "text/plain": [
       "np.int64(6)"
      ]
     },
     "execution_count": 45,
     "metadata": {},
     "output_type": "execute_result"
    }
   ],
   "source": [
    "arr[1,1]"
   ]
  },
  {
   "cell_type": "code",
   "execution_count": 46,
   "id": "e94d91b5",
   "metadata": {},
   "outputs": [
    {
     "data": {
      "text/plain": [
       "array([[ 0,  1,  2,  3,  4],\n",
       "       [ 5,  6,  7,  8,  9],\n",
       "       [10, 11, 12, 13, 14],\n",
       "       [15, 16, 17, 18, 19],\n",
       "       [20, 21, 22, 23, 24],\n",
       "       [25, 26, 27, 28, 29],\n",
       "       [30, 31, 32, 33, 34],\n",
       "       [35, 36, 37, 38, 39],\n",
       "       [40, 41, 42, 43, 44],\n",
       "       [45, 46, 47, 48, 49],\n",
       "       [50, 51, 52, 53, 54],\n",
       "       [55, 56, 57, 58, 59]])"
      ]
     },
     "execution_count": 46,
     "metadata": {},
     "output_type": "execute_result"
    }
   ],
   "source": [
    "arr"
   ]
  },
  {
   "cell_type": "code",
   "execution_count": 49,
   "id": "e3063574",
   "metadata": {},
   "outputs": [
    {
     "data": {
      "text/plain": [
       "array([[ 1],\n",
       "       [ 6],\n",
       "       [11],\n",
       "       [16],\n",
       "       [21]])"
      ]
     },
     "execution_count": 49,
     "metadata": {},
     "output_type": "execute_result"
    }
   ],
   "source": [
    "arr[0:5,1:2]"
   ]
  },
  {
   "cell_type": "code",
   "execution_count": 52,
   "id": "30131fa3",
   "metadata": {},
   "outputs": [
    {
     "data": {
      "text/plain": [
       "array([59])"
      ]
     },
     "execution_count": 52,
     "metadata": {},
     "output_type": "execute_result"
    }
   ],
   "source": [
    "##last element\n",
    "arr[11:12,4]"
   ]
  },
  {
   "cell_type": "code",
   "execution_count": 53,
   "id": "0af9440f",
   "metadata": {},
   "outputs": [
    {
     "data": {
      "text/plain": [
       "array([59])"
      ]
     },
     "execution_count": 53,
     "metadata": {},
     "output_type": "execute_result"
    }
   ],
   "source": [
    "arr[11,4:5]"
   ]
  },
  {
   "cell_type": "code",
   "execution_count": 54,
   "id": "23ec4eb5",
   "metadata": {},
   "outputs": [
    {
     "data": {
      "text/plain": [
       "np.int64(59)"
      ]
     },
     "execution_count": 54,
     "metadata": {},
     "output_type": "execute_result"
    }
   ],
   "source": [
    "arr[11][-1]"
   ]
  },
  {
   "cell_type": "code",
   "execution_count": 55,
   "id": "422c3457",
   "metadata": {},
   "outputs": [
    {
     "data": {
      "text/plain": [
       "np.int64(59)"
      ]
     },
     "execution_count": 55,
     "metadata": {},
     "output_type": "execute_result"
    }
   ],
   "source": [
    "arr[-1][-1]"
   ]
  },
  {
   "cell_type": "code",
   "execution_count": 56,
   "id": "5c999ecc",
   "metadata": {},
   "outputs": [
    {
     "data": {
      "text/plain": [
       "np.int64(59)"
      ]
     },
     "execution_count": 56,
     "metadata": {},
     "output_type": "execute_result"
    }
   ],
   "source": [
    "arr[11,-1]"
   ]
  },
  {
   "cell_type": "code",
   "execution_count": 59,
   "id": "86b97879",
   "metadata": {},
   "outputs": [],
   "source": [
    "##3d array\n",
    "arr=np.array(np.arange(225).reshape(5,15,3))"
   ]
  },
  {
   "cell_type": "code",
   "execution_count": 60,
   "id": "4bf0f3b2",
   "metadata": {},
   "outputs": [
    {
     "data": {
      "text/plain": [
       "array([  0,   1,   2,   3,   4,   5,   6,   7,   8,   9,  10,  11,  12,\n",
       "        13,  14,  15,  16,  17,  18,  19,  20,  21,  22,  23,  24,  25,\n",
       "        26,  27,  28,  29,  30,  31,  32,  33,  34,  35,  36,  37,  38,\n",
       "        39,  40,  41,  42,  43,  44,  45,  46,  47,  48,  49,  50,  51,\n",
       "        52,  53,  54,  55,  56,  57,  58,  59,  60,  61,  62,  63,  64,\n",
       "        65,  66,  67,  68,  69,  70,  71,  72,  73,  74,  75,  76,  77,\n",
       "        78,  79,  80,  81,  82,  83,  84,  85,  86,  87,  88,  89,  90,\n",
       "        91,  92,  93,  94,  95,  96,  97,  98,  99, 100, 101, 102, 103,\n",
       "       104, 105, 106, 107, 108, 109, 110, 111, 112, 113, 114, 115, 116,\n",
       "       117, 118, 119, 120, 121, 122, 123, 124, 125, 126, 127, 128, 129,\n",
       "       130, 131, 132, 133, 134, 135, 136, 137, 138, 139, 140, 141, 142,\n",
       "       143, 144, 145, 146, 147, 148, 149, 150, 151, 152, 153, 154, 155,\n",
       "       156, 157, 158, 159, 160, 161, 162, 163, 164, 165, 166, 167, 168,\n",
       "       169, 170, 171, 172, 173, 174, 175, 176, 177, 178, 179, 180, 181,\n",
       "       182, 183, 184, 185, 186, 187, 188, 189, 190, 191, 192, 193, 194,\n",
       "       195, 196, 197, 198, 199, 200, 201, 202, 203, 204, 205, 206, 207,\n",
       "       208, 209, 210, 211, 212, 213, 214, 215, 216, 217, 218, 219, 220,\n",
       "       221, 222, 223, 224])"
      ]
     },
     "execution_count": 60,
     "metadata": {},
     "output_type": "execute_result"
    }
   ],
   "source": [
    "arr.ravel()"
   ]
  },
  {
   "cell_type": "code",
   "execution_count": null,
   "id": "da6c9435",
   "metadata": {},
   "outputs": [],
   "source": [
    "arr.shape\n",
    "#(5,15,3)\n",
    "#5 tables\n",
    "#15 rows\n",
    "#3 columns"
   ]
  },
  {
   "cell_type": "code",
   "execution_count": 61,
   "id": "39c0efaa",
   "metadata": {},
   "outputs": [
    {
     "name": "stdout",
     "output_type": "stream",
     "text": [
      "Dimension of arrat:- 3\n"
     ]
    }
   ],
   "source": [
    "print(\"Dimension of arrat:-\",arr.ndim)"
   ]
  },
  {
   "cell_type": "code",
   "execution_count": 62,
   "id": "ac4042ae",
   "metadata": {},
   "outputs": [
    {
     "data": {
      "text/plain": [
       "array([[ 6,  7,  8],\n",
       "       [ 9, 10, 11],\n",
       "       [12, 13, 14],\n",
       "       [15, 16, 17],\n",
       "       [18, 19, 20],\n",
       "       [21, 22, 23],\n",
       "       [24, 25, 26],\n",
       "       [27, 28, 29],\n",
       "       [30, 31, 32],\n",
       "       [33, 34, 35],\n",
       "       [36, 37, 38],\n",
       "       [39, 40, 41],\n",
       "       [42, 43, 44]])"
      ]
     },
     "execution_count": 62,
     "metadata": {},
     "output_type": "execute_result"
    }
   ],
   "source": [
    "arr[0][2:]"
   ]
  },
  {
   "cell_type": "code",
   "execution_count": 63,
   "metadata": {},
   "outputs": [
    {
     "data": {
      "text/plain": [
       "array([[  0,   1,   2],\n",
       "       [ 45,  46,  47],\n",
       "       [ 90,  91,  92],\n",
       "       [135, 136, 137],\n",
       "       [180, 181, 182]])"
      ]
     },
     "execution_count": 63,
     "metadata": {},
     "output_type": "execute_result"
    }
   ],
   "source": [
    "arr[:,0,:]"
   ]
  },
  {
   "cell_type": "code",
   "execution_count": 64,
   "metadata": {},
   "outputs": [
    {
     "data": {
      "text/plain": [
       "array([[  0],\n",
       "       [ 45],\n",
       "       [ 90],\n",
       "       [135],\n",
       "       [180]])"
      ]
     },
     "execution_count": 64,
     "metadata": {},
     "output_type": "execute_result"
    }
   ],
   "source": [
    "arr[:,0,:1]"
   ]
  },
  {
   "cell_type": "code",
   "execution_count": 65,
   "id": "aedcea84",
   "metadata": {},
   "outputs": [
    {
     "data": {
      "text/plain": [
       "array([[[  0]],\n",
       "\n",
       "       [[ 45]],\n",
       "\n",
       "       [[ 90]],\n",
       "\n",
       "       [[135]],\n",
       "\n",
       "       [[180]]])"
      ]
     },
     "execution_count": 65,
     "metadata": {},
     "output_type": "execute_result"
    }
   ],
   "source": [
    "arr[:,0:1,0:1]"
   ]
  },
  {
   "cell_type": "code",
   "execution_count": 66,
   "id": "37f819da",
   "metadata": {},
   "outputs": [],
   "source": [
    "arr[2][3][1]=500"
   ]
  },
  {
   "cell_type": "code",
   "execution_count": 67,
   "id": "c3c01b74",
   "metadata": {},
   "outputs": [
    {
     "data": {
      "text/plain": [
       "array([[ 90,  91,  92],\n",
       "       [ 93,  94,  95],\n",
       "       [ 96,  97,  98],\n",
       "       [ 99, 500, 101],\n",
       "       [102, 103, 104],\n",
       "       [105, 106, 107],\n",
       "       [108, 109, 110],\n",
       "       [111, 112, 113],\n",
       "       [114, 115, 116],\n",
       "       [117, 118, 119],\n",
       "       [120, 121, 122],\n",
       "       [123, 124, 125],\n",
       "       [126, 127, 128],\n",
       "       [129, 130, 131],\n",
       "       [132, 133, 134]])"
      ]
     },
     "execution_count": 67,
     "metadata": {},
     "output_type": "execute_result"
    }
   ],
   "source": [
    "arr[2]"
   ]
  },
  {
   "cell_type": "code",
   "execution_count": 68,
   "id": "37e3e17b",
   "metadata": {},
   "outputs": [],
   "source": [
    "arr=np.array([1,2,3,4,5,6,7,8,9,10])\n",
    "arr1=np.array([1,2,3,4,5,6,7,8,9,10])\n",
    "arr2=np.array([1,2,3,4,5,6,7,8,9,10])"
   ]
  },
  {
   "cell_type": "code",
   "execution_count": null,
   "metadata": {},
   "outputs": [
    {
     "name": "stdout",
     "output_type": "stream",
     "text": [
      "[ 3  4  5  6  7  8  9 10 11 12]\n",
      "[ 2  4  6  8 10 12 14 16 18 20]\n",
      "[1. 1. 1. 1. 1. 1. 1. 1. 1. 1.]\n",
      "[  1   4   9  16  25  36  49  64  81 100]\n",
      "[ 2  4  6  8 10 12 14 16 18 20]\n",
      "[0 0 0 0 0 0 0 0 0 0]\n",
      "[  1   4   9  16  25  36  49  64  81 100]\n",
      "[   1    8   27   64  125  216  343  512  729 1000]\n"
     ]
    }
   ],
   "source": [
    "print(arr+2)\n",
    "print(arr*2)\n",
    "print(arr1/arr2)\n",
    "print(arr1*arr2)\n",
    "print(arr1+arr2)\n",
    "print(arr1-arr2)\n",
    "print(arr1**2)\n",
    "print(arr1**3)\n",
    "#arr.short\n",
    "\n"
   ]
  },
  {
   "cell_type": "code",
   "execution_count": null,
   "metadata": {},
   "outputs": [],
   "source": []
  }
 ],
 "metadata": {
  "kernelspec": {
   "display_name": "Python 3",
   "language": "python",
   "name": "python3"
  },
  "language_info": {
   "codemirror_mode": {
    "name": "ipython",
    "version": 3
   },
   "file_extension": ".py",
   "mimetype": "text/x-python",
   "name": "python",
   "nbconvert_exporter": "python",
   "pygments_lexer": "ipython3",
   "version": "3.11.5"
  }
 },
 "nbformat": 4,
 "nbformat_minor": 5
}
