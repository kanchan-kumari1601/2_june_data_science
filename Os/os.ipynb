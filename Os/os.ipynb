{
 "cells": [
  {
   "cell_type": "code",
   "execution_count": 1,
   "id": "48f5f68b",
   "metadata": {},
   "outputs": [],
   "source": [
    "import os ## import os module os module is udes to interact with operating system"
   ]
  },
  {
   "cell_type": "code",
   "execution_count": 2,
   "id": "371adf63",
   "metadata": {},
   "outputs": [],
   "source": [
    "file=os.getcwd() ##get current working directory"
   ]
  },
  {
   "cell_type": "code",
   "execution_count": 3,
   "id": "4e9637b2",
   "metadata": {},
   "outputs": [
    {
     "name": "stdout",
     "output_type": "stream",
     "text": [
      "Curent working directory: c:\\Users\\ASUS\\OneDrive\\Desktop\\internship 2 june\\Os\n"
     ]
    }
   ],
   "source": [
    "print(\"Curent working directory:\", file)"
   ]
  },
  {
   "cell_type": "code",
   "execution_count": 4,
   "id": "2a06605c",
   "metadata": {},
   "outputs": [
    {
     "data": {
      "text/plain": [
       "['os.ipynb']"
      ]
     },
     "execution_count": 4,
     "metadata": {},
     "output_type": "execute_result"
    }
   ],
   "source": [
    "os.listdir() ##list all the files and directory in the current directory"
   ]
  },
  {
   "cell_type": "code",
   "execution_count": 5,
   "id": "1a747e36",
   "metadata": {},
   "outputs": [],
   "source": [
    "os.mkdir(\"Demo\")  ##create a folder in the current directory"
   ]
  },
  {
   "cell_type": "code",
   "execution_count": 6,
   "id": "e8160656",
   "metadata": {},
   "outputs": [
    {
     "data": {
      "text/plain": [
       "['Demo', 'os.ipynb']"
      ]
     },
     "execution_count": 6,
     "metadata": {},
     "output_type": "execute_result"
    }
   ],
   "source": [
    "os.listdir()"
   ]
  },
  {
   "cell_type": "code",
   "execution_count": 7,
   "id": "d2605d04",
   "metadata": {},
   "outputs": [],
   "source": [
    "os.rename(\"Demo\",\"Data science\")  ##rename the folder"
   ]
  },
  {
   "cell_type": "code",
   "execution_count": 12,
   "id": "2efb503f",
   "metadata": {},
   "outputs": [
    {
     "data": {
      "text/plain": [
       "['Data science', 'os.ipynb']"
      ]
     },
     "execution_count": 12,
     "metadata": {},
     "output_type": "execute_result"
    }
   ],
   "source": [
    "os.listdir()"
   ]
  },
  {
   "cell_type": "code",
   "execution_count": 13,
   "id": "17002861",
   "metadata": {},
   "outputs": [],
   "source": [
    "os.rename(\"Data science\",\"Demo\") "
   ]
  },
  {
   "cell_type": "code",
   "execution_count": 15,
   "metadata": {},
   "outputs": [
    {
     "data": {
      "text/plain": [
       "['Demo', 'os.ipynb']"
      ]
     },
     "execution_count": 15,
     "metadata": {},
     "output_type": "execute_result"
    }
   ],
   "source": [
    "os.listdir()"
   ]
  },
  {
   "cell_type": "code",
   "execution_count": 16,
   "id": "abb1fac6",
   "metadata": {},
   "outputs": [
    {
     "data": {
      "text/plain": [
       "['os.ipynb']"
      ]
     },
     "execution_count": 16,
     "metadata": {},
     "output_type": "execute_result"
    }
   ],
   "source": [
    "os.listdir()"
   ]
  },
  {
   "cell_type": "code",
   "execution_count": null,
   "id": "bef28280",
   "metadata": {},
   "outputs": [],
   "source": [
    "os.getcwd() ##print the current working directory\n",
    "path='c:\\\\Users\\\\ASUS\\\\OneDrive\\\\Desktop\\\\internship 2 june\\\\Os'"
   ]
  },
  {
   "cell_type": "code",
   "execution_count": 23,
   "id": "72c6c7f0",
   "metadata": {},
   "outputs": [],
   "source": [
    "path=os.environ.get(path) ##print the environment variables"
   ]
  },
  {
   "cell_type": "code",
   "execution_count": 24,
   "id": "003a9af3",
   "metadata": {},
   "outputs": [
    {
     "name": "stdout",
     "output_type": "stream",
     "text": [
      "path exist None\n"
     ]
    }
   ],
   "source": [
    "print(\"path exist\",path)"
   ]
  },
  {
   "cell_type": "code",
   "execution_count": 25,
   "id": "624e7b2a",
   "metadata": {},
   "outputs": [
    {
     "data": {
      "text/plain": [
       "['AnyDesk.exe',\n",
       " 'app',\n",
       " 'Cisco Webex Meetings.lnk',\n",
       " 'coursera 2k25',\n",
       " 'desktop.ini',\n",
       " 'echo_of_earth_starter.zip',\n",
       " 'ekalyan',\n",
       " 'internship 2 june',\n",
       " 'kuhu certificate',\n",
       " 'Microsoft Edge.lnk',\n",
       " 'MinGW Installer.lnk',\n",
       " 'New folder',\n",
       " 'New folder (2)',\n",
       " 'New folder (3)',\n",
       " 'New Microsoft Access Database.accdb',\n",
       " 'New Microsoft Excel Worksheet.xlsx',\n",
       " 'privpics',\n",
       " 'SA_PHOTO.jpg',\n",
       " 'SA_SIGNATURE.jpg',\n",
       " 'songs',\n",
       " 'streamlit',\n",
       " 'streamlit.APP',\n",
       " 'sunset-synthwave-sports-car-4k-2161n.html.zip',\n",
       " 'Visual Studio Code - Copy.lnk',\n",
       " 'Visual Studio Code.lnk']"
      ]
     },
     "execution_count": 25,
     "metadata": {},
     "output_type": "execute_result"
    }
   ],
   "source": [
    "os.listdir(r\"C:\\Users\\ASUS\\OneDrive\\Desktop\")"
   ]
  },
  {
   "cell_type": "code",
   "execution_count": 26,
   "id": "0a696c39",
   "metadata": {},
   "outputs": [
    {
     "data": {
      "text/plain": [
       "False"
      ]
     },
     "execution_count": 26,
     "metadata": {},
     "output_type": "execute_result"
    }
   ],
   "source": [
    "os.path.isfile(r\"c:\\\\Users\\\\ASUS\\\\OneDrive\\\\Desktop\\\\internship 2 june\\\\Os\\os.py\")"
   ]
  },
  {
   "cell_type": "code",
   "execution_count": 27,
   "id": "eaff3c67",
   "metadata": {},
   "outputs": [
    {
     "data": {
      "text/plain": [
       "False"
      ]
     },
     "execution_count": 27,
     "metadata": {},
     "output_type": "execute_result"
    }
   ],
   "source": [
    "os.path.isdir(r\"C:\\Users\\ASUS\\OneDrive\\hello\")"
   ]
  },
  {
   "cell_type": "code",
   "execution_count": 33,
   "id": "91f8ee94",
   "metadata": {},
   "outputs": [],
   "source": [
    "path1=r\"c:\\\\Users\\\\ASUS\"\n",
    "path2=r\"\\\\OneDrive\\\\Desktop\\\\internship 2 june\\\\Os\"\n",
    "complete_path=os.path.join(path1+path2)"
   ]
  },
  {
   "cell_type": "code",
   "execution_count": 34,
   "id": "5897a984",
   "metadata": {},
   "outputs": [
    {
     "data": {
      "text/plain": [
       "'c:\\\\\\\\Users\\\\\\\\ASUS\\\\\\\\OneDrive\\\\\\\\Desktop\\\\\\\\internship 2 june\\\\\\\\Os'"
      ]
     },
     "execution_count": 34,
     "metadata": {},
     "output_type": "execute_result"
    }
   ],
   "source": [
    "complete_path"
   ]
  },
  {
   "cell_type": "code",
   "execution_count": 35,
   "id": "ec0d68f3",
   "metadata": {},
   "outputs": [
    {
     "data": {
      "text/plain": [
       "['os.ipynb']"
      ]
     },
     "execution_count": 35,
     "metadata": {},
     "output_type": "execute_result"
    }
   ],
   "source": [
    "os.listdir(complete_path)"
   ]
  },
  {
   "cell_type": "code",
   "execution_count": 36,
   "id": "993946ee",
   "metadata": {},
   "outputs": [],
   "source": [
    "file=r\"c:\\\\Users\\\\ASUS\\\\OneDrive\\\\Desktop\\\\internship 2 june\\\\Os\\\\os.ipynb\""
   ]
  },
  {
   "cell_type": "code",
   "execution_count": 37,
   "id": "ddba6512",
   "metadata": {},
   "outputs": [
    {
     "name": "stdout",
     "output_type": "stream",
     "text": [
      "size of file(in bytes): 7804\n"
     ]
    }
   ],
   "source": [
    "size=os.path.getsize(file)\n",
    "print(\"size of file(in bytes):\",size)"
   ]
  },
  {
   "cell_type": "code",
   "execution_count": 38,
   "id": "4d80f82b",
   "metadata": {},
   "outputs": [
    {
     "name": "stdout",
     "output_type": "stream",
     "text": [
      "before dir c:\\Users\\ASUS\\OneDrive\\Desktop\\internship 2 june\\Os\n",
      "after dir C:\\Users\\ASUS\\OneDrive\\Desktop\\coursera 2k25\n"
     ]
    }
   ],
   "source": [
    "print(\"before dir\",os.getcwd())\n",
    "os.chdir(r\"C:\\Users\\ASUS\\OneDrive\\Desktop\\coursera 2k25\")\n",
    "print(\"after dir\",os.getcwd())"
   ]
  },
  {
   "cell_type": "code",
   "execution_count": 39,
   "id": "d5267453",
   "metadata": {},
   "outputs": [
    {
     "name": "stdout",
     "output_type": "stream",
     "text": [
      "before dir C:\\Users\\ASUS\\OneDrive\\Desktop\\coursera 2k25\n"
     ]
    }
   ],
   "source": [
    "print(\"before dir\",os.getcwd())"
   ]
  }
 ],
 "metadata": {
  "kernelspec": {
   "display_name": "base",
   "language": "python",
   "name": "python3"
  },
  "language_info": {
   "codemirror_mode": {
    "name": "ipython",
    "version": 3
   },
   "file_extension": ".py",
   "mimetype": "text/x-python",
   "name": "python",
   "nbconvert_exporter": "python",
   "pygments_lexer": "ipython3",
   "version": "3.11.5"
  }
 },
 "nbformat": 4,
 "nbformat_minor": 5
}
