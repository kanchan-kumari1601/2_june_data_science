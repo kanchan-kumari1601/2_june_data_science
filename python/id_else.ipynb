{
 "cells": [
  {
   "cell_type": "markdown",
   "id": "e696cf9d",
   "metadata": {},
   "source": [
    "### if else"
   ]
  },
  {
   "cell_type": "code",
   "execution_count": 2,
   "id": "fec55f99",
   "metadata": {},
   "outputs": [],
   "source": [
    "#if:\n",
    "#     pass\n",
    "# else\n",
    "#     pass"
   ]
  },
  {
   "cell_type": "code",
   "execution_count": 3,
   "id": "877e4210",
   "metadata": {},
   "outputs": [
    {
     "name": "stdout",
     "output_type": "stream",
     "text": [
      "positive number\n"
     ]
    }
   ],
   "source": [
    "num=10\n",
    "if num>0:\n",
    "    print(\"positive number\")\n",
    "else:\n",
    "    print(\"negative number\")\n"
   ]
  },
  {
   "cell_type": "code",
   "execution_count": 4,
   "id": "96b67f13",
   "metadata": {},
   "outputs": [
    {
     "name": "stdout",
     "output_type": "stream",
     "text": [
      "odd number\n"
     ]
    }
   ],
   "source": [
    "num=7\n",
    "if num%2==0:\n",
    "    print(\"even number\")\n",
    "else:\n",
    "    print(\"odd number\")    "
   ]
  },
  {
   "cell_type": "code",
   "execution_count": 5,
   "id": "96739ed1",
   "metadata": {},
   "outputs": [
    {
     "name": "stdout",
     "output_type": "stream",
     "text": [
      "login successful\n"
     ]
    }
   ],
   "source": [
    "username=\"admin\"\n",
    "password=\"1234\"\n",
    "\n",
    "if username==\"admin\" and password==\"1234\":\n",
    "    print(\"login successful\")\n",
    "else:\n",
    "    print(\"login failed\")    "
   ]
  },
  {
   "cell_type": "code",
   "execution_count": 6,
   "id": "a7537d38",
   "metadata": {},
   "outputs": [],
   "source": [
    "# if condition:\n",
    "#     pass\n",
    "# elif condition:\n",
    "#     pass\n",
    "# else:\n",
    "#     pass"
   ]
  },
  {
   "cell_type": "code",
   "execution_count": 7,
   "id": "f99a5018",
   "metadata": {},
   "outputs": [
    {
     "name": "stdout",
     "output_type": "stream",
     "text": [
      "grade B\n"
     ]
    }
   ],
   "source": [
    "marks=85\n",
    "if marks>=90:\n",
    "    print(\"grade A\")\n",
    "elif marks>=75:\n",
    "    print(\"grade B\")\n",
    "elif marks>=60:\n",
    "    print(\"grade c\")\n",
    "else:\n",
    "    print(\"grade D\")\n",
    "    "
   ]
  },
  {
   "cell_type": "code",
   "execution_count": 8,
   "id": "0f40cb57",
   "metadata": {},
   "outputs": [
    {
     "name": "stdout",
     "output_type": "stream",
     "text": [
      "login failed\n"
     ]
    }
   ],
   "source": [
    "username=input(\"enter your name\")\n",
    "password=input(\"enter your password\")\n",
    "\n",
    "if username==\"admin\" and password==\"1234\":\n",
    "    print(\"login successful\")\n",
    "else:\n",
    "    print(\"login failed\")   "
   ]
  },
  {
   "cell_type": "code",
   "execution_count": 9,
   "id": "9cad1a74",
   "metadata": {},
   "outputs": [
    {
     "name": "stdout",
     "output_type": "stream",
     "text": [
      "username is not found please try again\n"
     ]
    }
   ],
   "source": [
    "#nested if else\n",
    "\n",
    "username=input(\"enter your name\")\n",
    "password=input(\"enter your password\")\n",
    "if username==\"admin\":\n",
    "    if password==\"1234\":\n",
    "        print(\"login successfull welcome admin\")\n",
    "    else:\n",
    "        print(\"incorrect password\")\n",
    "        \n",
    "else:\n",
    "        print(\"username is not found please try again\")"
   ]
  },
  {
   "cell_type": "code",
   "execution_count": 4,
   "id": "b4ae5b1e",
   "metadata": {},
   "outputs": [],
   "source": [
    "username=\"admin\"\n",
    "password=\"1234\""
   ]
  }
 ],
 "metadata": {
  "kernelspec": {
   "display_name": "base",
   "language": "python",
   "name": "python3"
  },
  "language_info": {
   "codemirror_mode": {
    "name": "ipython",
    "version": 3
   },
   "file_extension": ".py",
   "mimetype": "text/x-python",
   "name": "python",
   "nbconvert_exporter": "python",
   "pygments_lexer": "ipython3",
   "version": "3.11.5"
  }
 },
 "nbformat": 4,
 "nbformat_minor": 5
}
