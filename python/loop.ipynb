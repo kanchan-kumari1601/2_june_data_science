{
 "cells": [
  {
   "cell_type": "markdown",
   "id": "6e3300e5",
   "metadata": {},
   "source": [
    "### Looping\n",
    "for loop\n",
    "while loop\n",
    "\n"
   ]
  },
  {
   "cell_type": "code",
   "execution_count": 14,
   "id": "85915811",
   "metadata": {},
   "outputs": [
    {
     "name": "stdout",
     "output_type": "stream",
     "text": [
      "1\n",
      "2\n",
      "3\n",
      "4\n",
      "5\n"
     ]
    }
   ],
   "source": [
    "list=[1,2,3,4,5]\n",
    "for i in list:\n",
    "    print(i)"
   ]
  },
  {
   "cell_type": "code",
   "execution_count": 15,
   "id": "33e3262d",
   "metadata": {},
   "outputs": [
    {
     "name": "stdout",
     "output_type": "stream",
     "text": [
      "1\n",
      "2\n",
      "3\n",
      "4\n",
      "5\n"
     ]
    }
   ],
   "source": [
    "tuple=(1,2,3,4,5)\n",
    "for i in tuple:\n",
    "    print(i)"
   ]
  },
  {
   "cell_type": "code",
   "execution_count": 16,
   "id": "906cda05",
   "metadata": {},
   "outputs": [
    {
     "name": "stdout",
     "output_type": "stream",
     "text": [
      "('name', 'kanchan')\n",
      "('age', 20)\n",
      "('gender', 'female')\n"
     ]
    }
   ],
   "source": [
    "dict={\n",
    "    \"name\":\"kanchan\",\n",
    "    \"age\":20,\n",
    "    \"gender\":\"female\"\n",
    "}\n",
    "for i in dict.items():\n",
    "    print(i)"
   ]
  },
  {
   "cell_type": "code",
   "execution_count": 17,
   "id": "f0cb624c",
   "metadata": {},
   "outputs": [
    {
     "name": "stdout",
     "output_type": "stream",
     "text": [
      "0\n",
      "1\n",
      "2\n",
      "3\n",
      "4\n",
      "5\n",
      "6\n",
      "7\n",
      "8\n",
      "9\n"
     ]
    }
   ],
   "source": [
    "#range\n",
    "for x in range(10):\n",
    "     print (x)"
   ]
  },
  {
   "cell_type": "code",
   "execution_count": 18,
   "id": "af2ef460",
   "metadata": {},
   "outputs": [
    {
     "name": "stdout",
     "output_type": "stream",
     "text": [
      "hello 0\n",
      "hello 1\n",
      "hello 2\n",
      "hello 3\n",
      "hello 4\n",
      "hello 5\n",
      "hello 6\n",
      "hello 7\n",
      "hello 8\n",
      "hello 9\n"
     ]
    }
   ],
   "source": [
    "for x in range(10):\n",
    "    print(\"hello\",x)"
   ]
  },
  {
   "cell_type": "code",
   "execution_count": 19,
   "id": "4c1ab9e9",
   "metadata": {},
   "outputs": [
    {
     "name": "stdout",
     "output_type": "stream",
     "text": [
      "hello 1\n",
      "hello 3\n",
      "hello 5\n",
      "hello 7\n",
      "hello 9\n"
     ]
    }
   ],
   "source": [
    "for x in range(1,10,2):\n",
    "    print(\"hello\",x)"
   ]
  },
  {
   "cell_type": "code",
   "execution_count": 20,
   "id": "e34984fd",
   "metadata": {},
   "outputs": [
    {
     "name": "stdout",
     "output_type": "stream",
     "text": [
      "odd 1\n",
      "even 2\n",
      "odd 3\n",
      "even 4\n",
      "odd 5\n",
      "even 6\n",
      "odd 7\n",
      "even 8\n",
      "odd 9\n"
     ]
    }
   ],
   "source": [
    "#task1\n",
    "#even or odd\n",
    "#range(10)\n",
    "for i in range(1,10):\n",
    "    if i%2==0:\n",
    "        print(\"even\",i)\n",
    "    else:\n",
    "        print(\"odd\",i)"
   ]
  },
  {
   "cell_type": "code",
   "execution_count": 21,
   "id": "9e50953a",
   "metadata": {},
   "outputs": [
    {
     "name": "stdout",
     "output_type": "stream",
     "text": [
      "pass 78\n",
      "pass 76\n",
      "pass 94\n",
      "fail 33\n",
      "pass 88\n"
     ]
    }
   ],
   "source": [
    "marks_list=[78,76,94,33,88]\n",
    "for i in marks_list:\n",
    "    if i>=50:\n",
    "        print(\"pass\",i)\n",
    "    else:\n",
    "        print(\"fail\",i)"
   ]
  },
  {
   "cell_type": "markdown",
   "id": "d97cae01",
   "metadata": {},
   "source": [
    "##control statements\n",
    "\n",
    "**break**\n",
    "**continue**\n",
    "**pass**"
   ]
  },
  {
   "cell_type": "code",
   "execution_count": 22,
   "id": "cea857d8",
   "metadata": {},
   "outputs": [
    {
     "name": "stdout",
     "output_type": "stream",
     "text": [
      "1\n",
      "2\n",
      "3\n",
      "4\n"
     ]
    }
   ],
   "source": [
    "for i in range(1,10):\n",
    "    if i==5:\n",
    "        break\n",
    "    print(i)"
   ]
  },
  {
   "cell_type": "code",
   "execution_count": 23,
   "id": "532f03a4",
   "metadata": {},
   "outputs": [
    {
     "name": "stdout",
     "output_type": "stream",
     "text": [
      "1\n",
      "2\n",
      "3\n",
      "4\n",
      "6\n",
      "7\n",
      "8\n",
      "9\n"
     ]
    }
   ],
   "source": [
    "for i in range(1,10):\n",
    "    if i==5:\n",
    "        continue\n",
    "    print(i)"
   ]
  },
  {
   "cell_type": "code",
   "execution_count": 26,
   "id": "9e27b9ec",
   "metadata": {},
   "outputs": [],
   "source": [
    "for i in range(1,10):\n",
    "  pass"
   ]
  },
  {
   "cell_type": "code",
   "execution_count": 27,
   "id": "e2e00056",
   "metadata": {},
   "outputs": [
    {
     "name": "stdout",
     "output_type": "stream",
     "text": [
      "h is a consonant\n",
      "e is a vowel\n",
      "l is a consonant\n",
      "l is a consonant\n",
      "o is a vowel\n"
     ]
    }
   ],
   "source": [
    "text = \"hello\"\n",
    "vowels = \"aeiou\"\n",
    "\n",
    "for x in text:\n",
    "    if x in vowels:\n",
    "        print(x, \"is a vowel\")\n",
    "    else:\n",
    "        print(x, \"is a consonant\")"
   ]
  },
  {
   "cell_type": "code",
   "execution_count": 29,
   "id": "a5424227",
   "metadata": {},
   "outputs": [
    {
     "name": "stdout",
     "output_type": "stream",
     "text": [
      "1\n",
      "2\n",
      "3\n",
      "4\n",
      "5\n"
     ]
    }
   ],
   "source": [
    "#while loop\n",
    "a=1\n",
    "while a<=5:\n",
    "    print(a)\n",
    "    a=a+1"
   ]
  },
  {
   "cell_type": "code",
   "execution_count": 31,
   "id": "8b795e0b",
   "metadata": {},
   "outputs": [],
   "source": [
    "# while condition:\n",
    "#     code\n",
    "#     pass"
   ]
  },
  {
   "cell_type": "code",
   "execution_count": 34,
   "id": "c95c1f1e",
   "metadata": {},
   "outputs": [
    {
     "name": "stdout",
     "output_type": "stream",
     "text": [
      "1\n",
      "2\n",
      "3\n"
     ]
    }
   ],
   "source": [
    "a=1\n",
    "while a<=5:\n",
    "    print(a)\n",
    "    if a==3:\n",
    "        break\n",
    "    a=a+1"
   ]
  },
  {
   "cell_type": "code",
   "execution_count": 35,
   "id": "9cafdf34",
   "metadata": {},
   "outputs": [
    {
     "name": "stdout",
     "output_type": "stream",
     "text": [
      "2\n",
      "4\n",
      "5\n",
      "6\n"
     ]
    }
   ],
   "source": [
    "a=1\n",
    "while a<=5:\n",
    "    a=a+1\n",
    "    if a==3:\n",
    "        continue\n",
    "    print(a)"
   ]
  },
  {
   "cell_type": "code",
   "execution_count": null,
   "id": "24dcf90d",
   "metadata": {},
   "outputs": [],
   "source": []
  }
 ],
 "metadata": {
  "kernelspec": {
   "display_name": "base",
   "language": "python",
   "name": "python3"
  },
  "language_info": {
   "codemirror_mode": {
    "name": "ipython",
    "version": 3
   },
   "file_extension": ".py",
   "mimetype": "text/x-python",
   "name": "python",
   "nbconvert_exporter": "python",
   "pygments_lexer": "ipython3",
   "version": "3.11.5"
  }
 },
 "nbformat": 4,
 "nbformat_minor": 5
}
