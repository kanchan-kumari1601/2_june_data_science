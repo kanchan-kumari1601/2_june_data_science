{
 "cells": [
  {
   "cell_type": "markdown",
   "id": "dd0e6aa2",
   "metadata": {},
   "source": [
    "### Exception handling in python"
   ]
  },
  {
   "cell_type": "code",
   "execution_count": 1,
   "id": "39860dd5",
   "metadata": {},
   "outputs": [],
   "source": [
    "# try:\n",
    "#     pass\n",
    "# except:\n",
    "#     pass\n",
    "# else:\n",
    "#     pass\n",
    "# finally:\n",
    "#     pass"
   ]
  },
  {
   "cell_type": "code",
   "execution_count": 2,
   "id": "144d8e60",
   "metadata": {},
   "outputs": [],
   "source": [
    "try:\n",
    "    pass  ### main code\n",
    "except:\n",
    "    pass  ### code to handle exception\n",
    "else:\n",
    "    pass  ### code to execute\n",
    "finally:\n",
    "    pass  ## code to execute"
   ]
  },
  {
   "cell_type": "code",
   "execution_count": 3,
   "id": "f4745173",
   "metadata": {},
   "outputs": [
    {
     "name": "stdout",
     "output_type": "stream",
     "text": [
      "you can't divide by zero!\n"
     ]
    }
   ],
   "source": [
    "try:\n",
    "    x=10/0 #error\n",
    "    print(x)\n",
    "except ZeroDivisionError as e:\n",
    "    print(\"you can't divide by zero!\")\n",
    "        "
   ]
  },
  {
   "cell_type": "code",
   "execution_count": 4,
   "id": "394cdb17",
   "metadata": {},
   "outputs": [
    {
     "name": "stdout",
     "output_type": "stream",
     "text": [
      "5.0\n"
     ]
    }
   ],
   "source": [
    "try:\n",
    "    x=10/2 #error\n",
    "    print(x)\n",
    "except ZeroDivisionError as e:\n",
    "    print(\"you can't divide by zero!\")\n",
    "        "
   ]
  },
  {
   "cell_type": "code",
   "execution_count": 5,
   "id": "44621750",
   "metadata": {},
   "outputs": [],
   "source": [
    "### zeroDivisionError\n",
    "### ValueError\n",
    "### typeerror\n",
    "### keyError\n",
    "### nameError\n",
    "### attributeerror\n",
    "### sysntaxError\n",
    "### importError\n",
    "### modulNotFoundError\n",
    "### osError"
   ]
  },
  {
   "cell_type": "code",
   "execution_count": 6,
   "id": "774e438a",
   "metadata": {},
   "outputs": [
    {
     "name": "stdout",
     "output_type": "stream",
     "text": [
      "you can not divide by zero\n",
      "division by zero\n"
     ]
    }
   ],
   "source": [
    "try:\n",
    "    x=10/0 \n",
    "    print(x)\n",
    "    \n",
    "except Exception as e:\n",
    "    print(\"you can not divide by zero\")\n",
    "    print(e)    "
   ]
  },
  {
   "cell_type": "code",
   "execution_count": null,
   "id": "138f81ad",
   "metadata": {},
   "outputs": [],
   "source": [
    "try:\n",
    "    num=int(input(\"enter a number\"))\n",
    "    result=10/num\n",
    "except ValueError:\n",
    "    print(\"Invalid input\")\n",
    "except ZeroDivisionError :\n",
    "    print(\"you can not divided by zero!\")\n",
    "else:\n",
    "    print(\"Result is:\",result)\n",
    "finally:\n",
    "    print(\"This is always executed\")                "
   ]
  },
  {
   "cell_type": "code",
   "execution_count": null,
   "id": "7287d9bf",
   "metadata": {},
   "outputs": [
    {
     "name": "stdout",
     "output_type": "stream",
     "text": [
      "Index out of range\n",
      "this is always executed\n"
     ]
    }
   ],
   "source": [
    "\n",
    "list=[1,2,3,4,]\n",
    "try:\n",
    "    print(list[5])\n",
    "except IndexError:\n",
    "    print(\"Index out of range\")\n",
    "finally:\n",
    "    print(\"this is always executed\")        "
   ]
  },
  {
   "cell_type": "markdown",
   "id": "26b07dc5",
   "metadata": {},
   "source": [
    "### Custom Exception"
   ]
  },
  {
   "cell_type": "code",
   "execution_count": null,
   "id": "c8a76995",
   "metadata": {},
   "outputs": [
    {
     "name": "stdout",
     "output_type": "stream",
     "text": [
      "you are eligible to vote\n"
     ]
    }
   ],
   "source": [
    "class UnderAEgeError(Exception):\n",
    "    pass\n",
    "age=int(input(\"Enter your age:\"))\n",
    "try:\n",
    "    if age<18:\n",
    "        raise UnderAgeError(\"You are not eligible to vote\")\n",
    "    else:\n",
    "        print(\"you are eligible to vote\")\n",
    "\n",
    "except UnderAgeErrror as e:\n",
    "    print(e)        "
   ]
  }
 ],
 "metadata": {
  "kernelspec": {
   "display_name": "Python 3",
   "language": "python",
   "name": "python3"
  },
  "language_info": {
   "codemirror_mode": {
    "name": "ipython",
    "version": 3
   },
   "file_extension": ".py",
   "mimetype": "text/x-python",
   "name": "python",
   "nbconvert_exporter": "python",
   "pygments_lexer": "ipython3",
   "version": "3.11.5"
  }
 },
 "nbformat": 4,
 "nbformat_minor": 5
}
