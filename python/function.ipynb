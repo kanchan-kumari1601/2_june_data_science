{
 "cells": [
  {
   "cell_type": "markdown",
   "id": "b8ea1983",
   "metadata": {},
   "source": [
    "### function"
   ]
  },
  {
   "cell_type": "code",
   "execution_count": null,
   "id": "abe3bf42",
   "metadata": {},
   "outputs": [],
   "source": [
    "# def function_name(parameter):\n",
    "#     # code block\n",
    "#     return result\n"
   ]
  },
  {
   "cell_type": "code",
   "execution_count": 1,
   "id": "07126b2f",
   "metadata": {},
   "outputs": [],
   "source": [
    "def greet():\n",
    "    print(\"hello, welcome to python \")\n",
    "    \n",
    "    "
   ]
  },
  {
   "cell_type": "code",
   "execution_count": null,
   "id": "7c184c3f",
   "metadata": {},
   "outputs": [
    {
     "name": "stdout",
     "output_type": "stream",
     "text": [
      "hello, welcome to python \n"
     ]
    }
   ],
   "source": [
    "greet()  ###calling function"
   ]
  },
  {
   "cell_type": "code",
   "execution_count": 3,
   "id": "e6454e70",
   "metadata": {},
   "outputs": [],
   "source": [
    "def add(a,b):\n",
    "    result=a+b\n",
    "    print(result)"
   ]
  },
  {
   "cell_type": "code",
   "execution_count": 5,
   "id": "ef72fb1c",
   "metadata": {},
   "outputs": [
    {
     "name": "stdout",
     "output_type": "stream",
     "text": [
      "50\n"
     ]
    }
   ],
   "source": [
    "# sum=add(a=10,b=20)\n",
    "# print(sum)\n",
    "add(a=20,b=30)\n"
   ]
  },
  {
   "cell_type": "code",
   "execution_count": 11,
   "id": "5f166c88",
   "metadata": {},
   "outputs": [],
   "source": [
    "def greet(name=\"kanchan\"):\n",
    "    print(\"hello\",name)\n",
    "    greet()"
   ]
  },
  {
   "cell_type": "code",
   "execution_count": 13,
   "id": "0f041b38",
   "metadata": {},
   "outputs": [
    {
     "name": "stdout",
     "output_type": "stream",
     "text": [
      "(30, -10, 200, 0.5)\n",
      "<class 'tuple'>\n"
     ]
    }
   ],
   "source": [
    "def operation(a,b):\n",
    "    return a+b,a-b,a*b,a/b\n",
    "result=operation(10,20)\n",
    "print(result)\n",
    "print(type(result))"
   ]
  },
  {
   "cell_type": "code",
   "execution_count": null,
   "id": "28bf4b1b",
   "metadata": {},
   "outputs": [
    {
     "name": "stdout",
     "output_type": "stream",
     "text": [
      "30\n",
      "-10\n"
     ]
    }
   ],
   "source": [
    "def operation(a,b):\n",
    "    return a+b,a-b\n",
    "sub,add=operation(10,20)  #tuple unpacking\n",
    "# print(result)\n",
    "# print(type(result))\n",
    "print(sub)\n",
    "print(add)"
   ]
  },
  {
   "cell_type": "code",
   "execution_count": 15,
   "id": "208e7da3",
   "metadata": {},
   "outputs": [
    {
     "data": {
      "text/plain": [
       "-10"
      ]
     },
     "execution_count": 15,
     "metadata": {},
     "output_type": "execute_result"
    }
   ],
   "source": [
    "add"
   ]
  },
  {
   "cell_type": "code",
   "execution_count": null,
   "id": "b27cb2b1",
   "metadata": {},
   "outputs": [
    {
     "name": "stdout",
     "output_type": "stream",
     "text": [
      "(2, 3, 4, 5, 5, 5, 5, 6)\n",
      "<class 'tuple'>\n"
     ]
    }
   ],
   "source": [
    "#tuple unpacking\n",
    "a=2,3,4,5,5,5,5,6\n",
    "print(a)\n",
    "print(type(a))"
   ]
  },
  {
   "cell_type": "markdown",
   "id": "118b422f",
   "metadata": {},
   "source": [
    "### Lambda Function"
   ]
  },
  {
   "cell_type": "code",
   "execution_count": null,
   "id": "4f3891f6",
   "metadata": {},
   "outputs": [],
   "source": [
    "#lambda arguments:expression"
   ]
  },
  {
   "cell_type": "code",
   "execution_count": 17,
   "id": "59baef08",
   "metadata": {},
   "outputs": [],
   "source": [
    "add=lambda a,b:a+b"
   ]
  },
  {
   "cell_type": "code",
   "execution_count": 18,
   "id": "b5ccd52c",
   "metadata": {},
   "outputs": [
    {
     "name": "stdout",
     "output_type": "stream",
     "text": [
      "30\n"
     ]
    }
   ],
   "source": [
    "print(add(10,20))"
   ]
  },
  {
   "cell_type": "code",
   "execution_count": 22,
   "id": "f9677427",
   "metadata": {},
   "outputs": [],
   "source": [
    "square=lambda x:x*x"
   ]
  },
  {
   "cell_type": "code",
   "execution_count": 23,
   "id": "82d04a01",
   "metadata": {},
   "outputs": [
    {
     "data": {
      "text/plain": [
       "25"
      ]
     },
     "execution_count": 23,
     "metadata": {},
     "output_type": "execute_result"
    }
   ],
   "source": [
    "square(5)"
   ]
  },
  {
   "cell_type": "code",
   "execution_count": 24,
   "id": "d61eb195",
   "metadata": {},
   "outputs": [],
   "source": [
    "is_even=lambda x:\"even\" if x%2==2 else \"odd\""
   ]
  },
  {
   "cell_type": "code",
   "execution_count": 25,
   "id": "988c241d",
   "metadata": {},
   "outputs": [
    {
     "data": {
      "text/plain": [
       "'odd'"
      ]
     },
     "execution_count": 25,
     "metadata": {},
     "output_type": "execute_result"
    }
   ],
   "source": [
    "is_even(5)"
   ]
  }
 ],
 "metadata": {
  "kernelspec": {
   "display_name": "base",
   "language": "python",
   "name": "python3"
  },
  "language_info": {
   "codemirror_mode": {
    "name": "ipython",
    "version": 3
   },
   "file_extension": ".py",
   "mimetype": "text/x-python",
   "name": "python",
   "nbconvert_exporter": "python",
   "pygments_lexer": "ipython3",
   "version": "3.11.5"
  }
 },
 "nbformat": 4,
 "nbformat_minor": 5
}
