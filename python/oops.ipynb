{
 "cells": [
  {
   "cell_type": "code",
   "execution_count": 17,
   "id": "fc6d8534",
   "metadata": {},
   "outputs": [],
   "source": [
    "class Myclass:      \n",
    "    x=5\n",
    "    y=10"
   ]
  },
  {
   "cell_type": "code",
   "execution_count": 18,
   "id": "c98789e0",
   "metadata": {},
   "outputs": [],
   "source": [
    "#create object\n",
    "\n",
    "p1= Myclass()  ##p1 is object and Myclass is class"
   ]
  },
  {
   "cell_type": "code",
   "execution_count": 19,
   "id": "9f75e1e9",
   "metadata": {},
   "outputs": [
    {
     "name": "stdout",
     "output_type": "stream",
     "text": [
      "5\n",
      "10\n"
     ]
    }
   ],
   "source": [
    "print(p1.x)\n",
    "print(p1.y)"
   ]
  },
  {
   "cell_type": "code",
   "execution_count": 20,
   "id": "9e95d552",
   "metadata": {},
   "outputs": [],
   "source": [
    "#Inheritance\n",
    "#polymorphism\n",
    "#Abstraction\n",
    "#Encapsulation"
   ]
  },
  {
   "cell_type": "markdown",
   "id": "68c8c873",
   "metadata": {},
   "source": [
    "### Inheritance"
   ]
  },
  {
   "cell_type": "code",
   "execution_count": 1,
   "id": "12aec32f",
   "metadata": {},
   "outputs": [],
   "source": [
    "# single inheritance\n",
    "# multiple inheritance\n",
    "# multilevel inheritance\n",
    "# hybrid inheritance\n",
    "\n",
    "\n",
    "class A:  #single\n",
    "    pass\n",
    "class B:\n",
    "    pass\n",
    "\n",
    "class A:#multiple\n",
    "    pass\n",
    "class c:\n",
    "    pass\n",
    "class B(c):\n",
    "    pass\n",
    "\n",
    "\n",
    "\n"
   ]
  },
  {
   "cell_type": "code",
   "execution_count": 3,
   "id": "ca1749cc",
   "metadata": {},
   "outputs": [
    {
     "name": "stdout",
     "output_type": "stream",
     "text": [
      "Akhilesh\n",
      "Sushma\n",
      "kanchan\n",
      "22\n"
     ]
    }
   ],
   "source": [
    "class Parent:\n",
    "    father_name=\"Akhilesh\"\n",
    "    mother_name=\"Sushma\"\n",
    "class Child(Parent):\n",
    "    child_name=\"kanchan\"\n",
    "    age=22\n",
    "child_obj=Child()\n",
    "print(child_obj.father_name)\n",
    "print(child_obj.mother_name)\n",
    "print(child_obj.child_name)\n",
    "print(child_obj.age)        "
   ]
  },
  {
   "cell_type": "code",
   "execution_count": null,
   "id": "e61ba438",
   "metadata": {},
   "outputs": [],
   "source": [
    "#multilevel inheritance\n",
    "\n",
    "class Grandparent:\n",
    "    pass\n",
    "class Parent:\n",
    "    pass\n",
    "class child:\n",
    "    pass"
   ]
  },
  {
   "cell_type": "code",
   "execution_count": 4,
   "id": "29e04b86",
   "metadata": {},
   "outputs": [],
   "source": [
    "class Grandparent:\n",
    "    grand_father_name=\"Hemant\"\n",
    "    grand_mother_name=\"Sunita\"\n",
    "    age=50\n",
    "class Parent(Grandparent):\n",
    "    father_name=\"Rahul\"\n",
    "    mother_name=\"Shivani\"\n",
    "    age=40\n",
    "class Child(Parent):\n",
    "    child_name=\"shiv\"\n",
    "    age=20\n",
    "child_obj=Child()            "
   ]
  },
  {
   "cell_type": "code",
   "execution_count": 6,
   "id": "1e409472",
   "metadata": {},
   "outputs": [
    {
     "name": "stdout",
     "output_type": "stream",
     "text": [
      "grand father nameHemant\n",
      "grand mother nameSunita\n",
      "father nameRahul\n",
      "mother nameShivani\n",
      "child nameshiv\n"
     ]
    }
   ],
   "source": [
    "print(f\"grand father name{child_obj.grand_father_name}\")\n",
    "print(f\"grand mother name{child_obj.grand_mother_name}\")\n",
    "print(f\"father name{child_obj.father_name}\")\n",
    "print(f\"mother name{child_obj.mother_name}\")\n",
    "print(f\"child name{child_obj.child_name}\")\n"
   ]
  },
  {
   "cell_type": "code",
   "execution_count": 7,
   "id": "5adb186a",
   "metadata": {},
   "outputs": [],
   "source": [
    "#multiple inheritance\n",
    "\n",
    "class A:\n",
    "    pass\n",
    "class B:\n",
    "        pass\n",
    "class C(A,B):\n",
    "        pass\n",
    "    "
   ]
  },
  {
   "cell_type": "code",
   "execution_count": 8,
   "id": "719b16cf",
   "metadata": {},
   "outputs": [
    {
     "name": "stdout",
     "output_type": "stream",
     "text": [
      "Hemant\n",
      "sunita\n",
      "Ramlal\n",
      "Rani\n",
      "House\n"
     ]
    }
   ],
   "source": [
    "class Parent:\n",
    "    father_name=\"Hemant\"\n",
    "    mother_name=\"sunita\"\n",
    "class Uncle:\n",
    "    uncle_name=\"Ramlal\"\n",
    "    aunty_name=\"Rani\"\n",
    "    uncle_property=\"House\"\n",
    "\n",
    "class Child(Parent,Uncle):\n",
    "    pass\n",
    "child_obj=Child()\n",
    "print(child_obj.father_name)\n",
    "print(child_obj.mother_name)\n",
    "print(child_obj.uncle_name)\n",
    "print(child_obj.aunty_name)\n",
    "print(child_obj.uncle_property)        "
   ]
  },
  {
   "cell_type": "code",
   "execution_count": 9,
   "id": "1af76be3",
   "metadata": {},
   "outputs": [
    {
     "name": "stdout",
     "output_type": "stream",
     "text": [
      "addition: 30\n",
      "Multiplication: 200\n"
     ]
    }
   ],
   "source": [
    "class Calculator:\n",
    "    def add(self,a,b):\n",
    "        return a+b\n",
    "    \n",
    "    def multiply(self,a,b):\n",
    "        return a*b\n",
    "\n",
    "obj=Calculator()\n",
    "print(\"addition:\",obj.add(10,20))\n",
    "print(\"Multiplication:\",obj.multiply(10,20))\n",
    "\n"
   ]
  },
  {
   "cell_type": "code",
   "execution_count": 13,
   "id": "24074197",
   "metadata": {},
   "outputs": [],
   "source": [
    "class Student:\n",
    "    def set_data(self,name,age):\n",
    "        self.name=name  ###instance variable\n",
    "        self.age=age    ### instance variable\n",
    "        \n",
    "        \n",
    "    def display(self):\n",
    "            print(f\"student name:{self.name}, and student age:{self.age}\")\n",
    "            \n",
    "obj=Student()\n",
    "obj.set_data(\"kanchan\",20)  \n",
    "          \n",
    "         "
   ]
  },
  {
   "cell_type": "code",
   "execution_count": 14,
   "id": "3ff5c095",
   "metadata": {},
   "outputs": [
    {
     "name": "stdout",
     "output_type": "stream",
     "text": [
      "student name:kanchan, and student age:20\n"
     ]
    }
   ],
   "source": [
    "obj.display()"
   ]
  },
  {
   "cell_type": "code",
   "execution_count": 4,
   "id": "7d25528c",
   "metadata": {},
   "outputs": [
    {
     "name": "stdout",
     "output_type": "stream",
     "text": [
      "153.86\n"
     ]
    }
   ],
   "source": [
    "##calculate the area of circle\n",
    "\n",
    "\n",
    "class Circle:\n",
    "    def set_radius(self, r): self.r = r\n",
    "    def get_area(self):\n",
    "        return 3.14 * self.r * self.r\n",
    "\n",
    "c = Circle()\n",
    "c.set_radius(7)\n",
    "print(c.get_area())"
   ]
  },
  {
   "cell_type": "code",
   "execution_count": 5,
   "id": "e3c1835d",
   "metadata": {},
   "outputs": [],
   "source": [
    "class Classname:\n",
    "    def __init__(self,param1,param2):\n",
    "        pass"
   ]
  },
  {
   "cell_type": "code",
   "execution_count": 18,
   "id": "242c3041",
   "metadata": {},
   "outputs": [],
   "source": [
    "class Student:\n",
    "    def __init__(self, name, roll):\n",
    "        pass\n",
    "    def display(self):\n",
    "        pass\n",
    "    \n",
    "s1=Student(\"name\",14)\n",
    "s1.display()    "
   ]
  },
  {
   "cell_type": "code",
   "execution_count": 19,
   "id": "43a57594",
   "metadata": {},
   "outputs": [
    {
     "name": "stdout",
     "output_type": "stream",
     "text": [
      "Student name:kanchan, and student roll:14\n"
     ]
    }
   ],
   "source": [
    "class Student:\n",
    "    def __init__(self, name, roll):\n",
    "        self.name=name\n",
    "        self.roll=roll\n",
    "    def display(self):\n",
    "        print(f\"Student name:{self.name}, and student roll:{self.roll}\")\n",
    "        \n",
    "s1=Student(name=\"kanchan\",roll=14)\n",
    "s1.display()            "
   ]
  },
  {
   "cell_type": "code",
   "execution_count": 20,
   "id": "0e7590e0",
   "metadata": {},
   "outputs": [
    {
     "name": "stdout",
     "output_type": "stream",
     "text": [
      "hello hiii kaise ho\n"
     ]
    }
   ],
   "source": [
    "class Demo:\n",
    "    def __init__(self):\n",
    "        self.a=20\n",
    "        self.b=10\n",
    "        \n",
    "        print(\"hello hiii kaise ho\")\n",
    "obj=Demo()        "
   ]
  },
  {
   "cell_type": "code",
   "execution_count": null,
   "id": "8d5f64f7",
   "metadata": {},
   "outputs": [
    {
     "name": "stdout",
     "output_type": "stream",
     "text": [
      "Brand: Toyota\n",
      "Info: Sedan, 2022 model, Automatic\n"
     ]
    }
   ],
   "source": [
    "##task 2\n",
    "class Car:\n",
    "    def __init__(self, brand, info):\n",
    "        self.brand = brand\n",
    "        self.info = info\n",
    "\n",
    "    def display(self):\n",
    "        print(f\"Brand: {self.brand}\")\n",
    "        print(f\"Info: {self.info}\")\n",
    "\n",
    "my_car = Car(\"Toyota\", \"Sedan, 2022 model, Automatic\")\n",
    "my_car.display()"
   ]
  },
  {
   "cell_type": "markdown",
   "id": "11454934",
   "metadata": {},
   "source": [
    "### Encapsulation in Python"
   ]
  },
  {
   "cell_type": "code",
   "execution_count": 21,
   "id": "77ee1079",
   "metadata": {},
   "outputs": [
    {
     "name": "stdout",
     "output_type": "stream",
     "text": [
      "name:kanchan and salary:500000\n"
     ]
    }
   ],
   "source": [
    "class Employes:\n",
    "    def __init__(self,name,salary):\n",
    "        self.name=name\n",
    "        self.__salary=salary\n",
    "    def show_info(self):\n",
    "        print(f\"name:{self.name} and salary:{self.__salary}\")  \n",
    "        \n",
    "        ### getter method\n",
    "    def get_salary(self):\n",
    "        return self.__salary\n",
    "    \n",
    "    ### setter method\n",
    "    def set_salary(self,amount):\n",
    "        if amount>0:\n",
    "            \n",
    "            self.__salary=amount\n",
    "        else:\n",
    "            print(\"Invalid salary\")\n",
    "            \n",
    "obj=Employes(name=\"kanchan\",salary=500000)\n",
    "\n",
    "obj.show_info()\n",
    "                      "
   ]
  },
  {
   "cell_type": "code",
   "execution_count": 22,
   "id": "527ee714",
   "metadata": {},
   "outputs": [
    {
     "data": {
      "text/plain": [
       "500000"
      ]
     },
     "execution_count": 22,
     "metadata": {},
     "output_type": "execute_result"
    }
   ],
   "source": [
    "obj.get_salary()"
   ]
  },
  {
   "cell_type": "code",
   "execution_count": 23,
   "id": "3dbd1d4d",
   "metadata": {},
   "outputs": [],
   "source": [
    "obj.set_salary(600000)"
   ]
  },
  {
   "cell_type": "code",
   "execution_count": 24,
   "id": "722faac9",
   "metadata": {},
   "outputs": [
    {
     "name": "stdout",
     "output_type": "stream",
     "text": [
      "name:kanchan and salary:600000\n"
     ]
    }
   ],
   "source": [
    "obj.show_info()"
   ]
  },
  {
   "cell_type": "code",
   "execution_count": 25,
   "id": "a8491ff4",
   "metadata": {},
   "outputs": [
    {
     "name": "stdout",
     "output_type": "stream",
     "text": [
      "student name:kanchan\n"
     ]
    }
   ],
   "source": [
    "class Student:\n",
    "    def __init__(self,name):\n",
    "        self.name=name\n",
    "    def display(self):\n",
    "        print(f\"student name:{self.name}\")\n",
    "        \n",
    "s1=Student(\"kanchan\") \n",
    "s1.display()            "
   ]
  },
  {
   "cell_type": "code",
   "execution_count": 28,
   "id": "49367bab",
   "metadata": {},
   "outputs": [
    {
     "name": "stdout",
     "output_type": "stream",
     "text": [
      "student name:kanchan\n"
     ]
    }
   ],
   "source": [
    "class Student:\n",
    "    def __init__(self):\n",
    "        self.__name= name ##private variable\n",
    "    def display(self):\n",
    "        print(f\"student name:{self.__name}\")   \n",
    "    def set_name(self):\n",
    "        return self.__name\n",
    "    \n",
    "s1.display()\n",
    "        "
   ]
  }
 ],
 "metadata": {
  "kernelspec": {
   "display_name": "base",
   "language": "python",
   "name": "python3"
  },
  "language_info": {
   "codemirror_mode": {
    "name": "ipython",
    "version": 3
   },
   "file_extension": ".py",
   "mimetype": "text/x-python",
   "name": "python",
   "nbconvert_exporter": "python",
   "pygments_lexer": "ipython3",
   "version": "3.11.5"
  }
 },
 "nbformat": 4,
 "nbformat_minor": 5
}
