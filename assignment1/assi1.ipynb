{
 "cells": [
  {
   "cell_type": "markdown",
   "id": "f970c184",
   "metadata": {},
   "source": [
    "### Ans 1)\n",
    "Class\n",
    "* Blueprint for creating object\n",
    "* Define attributes and methods\n",
    "* Define using the class keyword\n",
    "* eg: class Car\n",
    "\n",
    "Object\n",
    "* Instance of a class\n",
    "* Hild actual data and uses the class method\n",
    "* Creating using the class name eg: obj=classname()\n",
    "* eg my_car=Car()"
   ]
  },
  {
   "cell_type": "code",
   "execution_count": 6,
   "id": "d7b2a1ae",
   "metadata": {},
   "outputs": [
    {
     "name": "stdout",
     "output_type": "stream",
     "text": [
      "Title: The Alchemist\n",
      "Author: Paulo Coelho\n",
      "Year_publish: 1988\n"
     ]
    }
   ],
   "source": [
    "class Book:\n",
    "    def __init__(self,title,author,year_publish):\n",
    "        self.title=title \n",
    "        self.author=author\n",
    "        self.year_publish=year_publish\n",
    "        \n",
    "my_book=Book(\"The Alchemist\", \"Paulo Coelho\", 1988)\n",
    "        \n",
    "print(\"Title:\",my_book.title)\n",
    "print(\"Author:\",my_book.author)\n",
    "print(\"Year_publish:\",my_book.year_publish)\n",
    "        "
   ]
  },
  {
   "cell_type": "markdown",
   "id": "aef055d5",
   "metadata": {},
   "source": [
    "### Ans2)\n",
    "Inheritance is a feature in python where a child class(also called a derived class) inherits attributes and methods from parents class (also called a base class).\n",
    "\n",
    "* Resuse code from existing classes.\n",
    "* Create a hierarchy of class\n",
    "* Implement polymorphism(different classes using the same method name)\n",
    "\n"
   ]
  },
  {
   "cell_type": "code",
   "execution_count": 7,
   "id": "a97ca07d",
   "metadata": {},
   "outputs": [
    {
     "name": "stdout",
     "output_type": "stream",
     "text": [
      "Vehical is moving\n",
      "Car is driving on the road\n",
      "Bike is riding on the street\n"
     ]
    }
   ],
   "source": [
    "class Vehical:\n",
    "     def move(self):\n",
    "       print(\"Vehical is moving\")\n",
    "     \n",
    "class Car(Vehical):  \n",
    "    def move(self):\n",
    "        print(\"Car is driving on the road\")\n",
    "        \n",
    "class Bike(Vehical):\n",
    "    def move(self):\n",
    "        print(\"Bike is riding on the street\")\n",
    "\n",
    "v=Vehical()\n",
    "c=Car()\n",
    "b=Bike()\n",
    "\n",
    "v.move()\n",
    "c.move()\n",
    "b.move()                   "
   ]
  },
  {
   "cell_type": "markdown",
   "id": "04b7b2c4",
   "metadata": {},
   "source": [
    "### Ans 3)\n",
    " Polymorphism means \"many forms\" — it allows different classes to use the same method name but behave differently.\n",
    " 1. Method Overriding \n",
    "•\tSame method name in parent and child class.\n",
    "•\tChild class overrides the parent's version.\n",
    "\n"
   ]
  },
  {
   "cell_type": "code",
   "execution_count": 8,
   "id": "83e8d6ec",
   "metadata": {},
   "outputs": [
    {
     "name": "stdout",
     "output_type": "stream",
     "text": [
      "Boat is sailing\n",
      "Airplane is flying\n",
      "Train is running on tracks\n"
     ]
    }
   ],
   "source": [
    "def move_vehicle(vehicle):\n",
    "    vehicle.move()\n",
    "\n",
    "\n",
    "class Boat:\n",
    "    def move(self):\n",
    "        print(\"Boat is sailing\")\n",
    "\n",
    "class Airplane:\n",
    "    def move(self):\n",
    "        print(\"Airplane is flying\")\n",
    "\n",
    "class Train:\n",
    "    def move(self):\n",
    "        print(\"Train is running on tracks\")\n",
    "\n",
    "\n",
    "b = Boat()\n",
    "a = Airplane()\n",
    "t = Train()\n",
    "\n",
    "\n",
    "move_vehicle(b)  \n",
    "move_vehicle(a)  \n",
    "move_vehicle(t)  \n"
   ]
  },
  {
   "cell_type": "markdown",
   "id": "314e5dac",
   "metadata": {},
   "source": [
    "### Ans 4)\n",
    " 1. Instance Method\n",
    "* Most common type.\n",
    "* Takes self as the first parameter.\n",
    "* Can access and modify instance attributes.\n",
    "\n",
    "2. Class Method\n",
    "* Declared with @classmethod.\n",
    "* Takes cls (class itself) as the first parameter.\n",
    "* Can access and modify class-level data.\n",
    "\n",
    "3. Static Method\n",
    "* Declared with @staticmethod.\n",
    "* Takes no default first parameter (self or cls).\n",
    "* Can’t access or modify instance or class attributes directly.\n",
    "* Acts like a regular function inside a class."
   ]
  },
  {
   "cell_type": "code",
   "execution_count": 1,
   "id": "eeb564b5",
   "metadata": {},
   "outputs": [
    {
     "name": "stdout",
     "output_type": "stream",
     "text": [
      "12\n",
      "30\n"
     ]
    }
   ],
   "source": [
    "class Calculator:\n",
    "    @staticmethod\n",
    "    def multiply(a, b):\n",
    "        return a * b\n",
    "\n",
    "    @classmethod\n",
    "    def from_values(cls, vals):\n",
    "        return cls.multiply(vals[0], vals[1])\n",
    "\n",
    "\n",
    "print(Calculator.multiply(3, 4))        \n",
    "print(Calculator.from_values([5, 6]))   \n"
   ]
  },
  {
   "cell_type": "markdown",
   "id": "23ef6b40",
   "metadata": {},
   "source": [
    "### Ans 5)\n",
    "Encapsulation means hiding data inside a class so it can’t be changed or seen directly from outside. Instead, you use special methods to get or set the data safely.\n",
    "\n",
    "* Public: normal variable, anyone can access.\n",
    "* Protected: start with one underscore _name — meant for internal use (but still accessible).\n",
    "* Private: start with two underscores __name — harder to access from outside."
   ]
  },
  {
   "cell_type": "code",
   "execution_count": 2,
   "id": "57fdfa6d",
   "metadata": {},
   "outputs": [
    {
     "name": "stdout",
     "output_type": "stream",
     "text": [
      "kanchan\n",
      "20\n"
     ]
    }
   ],
   "source": [
    "class Person:\n",
    "    def __init__(self):\n",
    "        self.__name=None\n",
    "        self.__age=None\n",
    "        \n",
    "    def set_name(self,name) :\n",
    "        self.__name=name ##setter for name\n",
    "        \n",
    "    def get_name(self): \n",
    "        return self.__name ##getter for name    \n",
    "        \n",
    "    def set_age(self,age):\n",
    "        if age>0:\n",
    "            self.__age=age ##setter for age\n",
    "            \n",
    "    def get_age(self):\n",
    "        return self.__age  ##getter for age\n",
    "    \n",
    "p= Person()\n",
    "p.set_name(\"kanchan\")\n",
    "p.set_age(20)\n",
    "    \n",
    "print(p.get_name())\n",
    "print(p.get_age())\n",
    "                  "
   ]
  },
  {
   "cell_type": "markdown",
   "id": "78bb0351",
   "metadata": {},
   "source": [
    "### Ans6)\n",
    "The __init__ method is a special method in Python, called a constructor. It runs automatically when you create a new object from a class.\n",
    "\n",
    "Purpose of __init__:\n",
    "* To initialize the new object.\n",
    "* To set initial values for the object’s attributes.\n",
    "* It prepares the object with whatever data it needs when created.\n",
    "\n",
    "__init__\n",
    "* Runs automatically on object creation\t\n",
    "* Used to set up or initialize the object\t\n",
    "* Doesn’t return a value\n",
    "\n",
    "other methods\n",
    "* Runs only when you call it explicitly\n",
    "* Used to do actions or behaviors\n",
    "* Can return values\n",
    "\n"
   ]
  },
  {
   "cell_type": "code",
   "execution_count": 4,
   "id": "e25f3107",
   "metadata": {},
   "outputs": [
    {
     "name": "stdout",
     "output_type": "stream",
     "text": [
      "Product name:Laptop\n",
      "Product Price:80000\n"
     ]
    }
   ],
   "source": [
    "class Product:\n",
    "    def __init__(self,name,price):\n",
    "        self.name=name\n",
    "        self.price=price\n",
    "product1= Product(\"Laptop\",80000)\n",
    "\n",
    "print(f\"Product name:{product1.name}\")\n",
    "print(f\"Product Price:{product1.price}\")        "
   ]
  },
  {
   "cell_type": "markdown",
   "id": "a6965c56",
   "metadata": {},
   "source": [
    "### Ans7)\n",
    "Multiple inheritance means a class can inherit from more than one parent class.\n",
    "\n",
    "MRO(Method Resolution Order)\n",
    "* MRO tells Python which method to run first when multiple parents have the same method.\n",
    "* Python uses the C3 Linearization algorithm to determine this order.\n",
    "\n",
    "\n",
    "MRO Rule:\n",
    "Python looks for the method in the following order:\n",
    "* Current class\n",
    "* First parent (A)\n",
    "* Second parent (B)\n",
    "* And so on...\n",
    "\n"
   ]
  },
  {
   "cell_type": "code",
   "execution_count": 6,
   "id": "84d7c161",
   "metadata": {},
   "outputs": [
    {
     "name": "stdout",
     "output_type": "stream",
     "text": [
      "SmartFridge is starting operating.\n",
      "Appliance is operating\n",
      "MRO: ['SmartFridge', 'Appliance', 'Electronice', 'object']\n"
     ]
    }
   ],
   "source": [
    "class Appliance:\n",
    "    def operate(self):\n",
    "        print(\"Appliance is operating\")\n",
    "\n",
    "class Electronice:\n",
    "    def operate(self):\n",
    "        print(\"Electronice device is operating\")\n",
    "        \n",
    "class SmartFridge(Appliance,Electronice):\n",
    "    def operate(self):\n",
    "        print(\"SmartFridge is starting operating.\")\n",
    "        return super().operate()                \n",
    "\n",
    "fridge=SmartFridge()\n",
    "fridge.operate()\n",
    "\n",
    "print(\"MRO:\",[cls.__name__ for cls in SmartFridge.__mro__])\n",
    "    "
   ]
  },
  {
   "cell_type": "markdown",
   "id": "8ad9a713",
   "metadata": {},
   "source": [
    "### Ans8)\n",
    "Special methods, also called magic methods or dunder methods (short for double underscores), are built-in methods in Python that start and end with __, like __init__, __str__, __add__, etc.\n",
    "\n",
    "Magic Method            use                Example\n",
    "*   __init__         Constructor           obj=Class()\n",
    "*   __str__     String when using print()   print(obj)\n",
    "*   __add__     Add objects using+          obj1+obj2\n",
    "*  __len__     Length with len()           len(obj)\n",
    "*  __call__   Makes an object callable      obj()\n",
    "             like a function\n"
   ]
  },
  {
   "cell_type": "code",
   "execution_count": 3,
   "id": "aa6ca2f8",
   "metadata": {},
   "outputs": [
    {
     "name": "stdout",
     "output_type": "stream",
     "text": [
      "True\n",
      "True\n",
      "False\n"
     ]
    }
   ],
   "source": [
    "class Book:\n",
    "    def __init__(self, title, year_published):\n",
    "        self.title = title\n",
    "        self.year_published = year_published\n",
    "\n",
    "    def __eq__(self, other):\n",
    "        return self.year_published == other.year_published\n",
    "\n",
    "    def __lt__(self, other):\n",
    "        return self.year_published < other.year_published\n",
    "\n",
    "# Example usage\n",
    "book1 = Book(\"Book A\", 2001)\n",
    "book2 = Book(\"Book B\", 2005)\n",
    "book3 = Book(\"Book C\", 2001)\n",
    "\n",
    "print(book1 == book3)  # True\n",
    "print(book1 < book2)   # True\n",
    "print(book2 < book1)   # False\n"
   ]
  },
  {
   "cell_type": "markdown",
   "id": "669d63ff",
   "metadata": {},
   "source": [
    "### Ans9)\n",
    "Composition in oops\n",
    "* \"Has-a\" relationship (e.g., Car has a Engine)\n",
    "* A class contains objects of other classes\n",
    "* Loosely coupled (flexible design)\n",
    "* Reuses by including class instances\n",
    "* More flexible and easier to modify\n",
    "\n",
    "Inheritance in oops\n",
    "* \"Is-a\" relationship (e.g., Dog is a Animal)\t\n",
    "* A class inherits from another class\t\n",
    "* Tightly coupled (strong link)\t\n",
    "* Reuses parent behavior\t\n",
    "* Less flexible when system changes\n",
    "\n",
    "Use composition when:\n",
    "* You want to combine behaviors from different classes.\n",
    "* You need flexibility and don't want tight coupling between classes.\n",
    "* You expect the behavior to change dynamically at runtime.\n",
    "* You want to avoid deep inheritance chains, which make code harder to maintain.\n",
    "\n"
   ]
  },
  {
   "cell_type": "code",
   "execution_count": 1,
   "id": "fffc2067",
   "metadata": {},
   "outputs": [
    {
     "name": "stdout",
     "output_type": "stream",
     "text": [
      "Starting the truck...\n",
      "Engine started.\n"
     ]
    }
   ],
   "source": [
    "class Engine:\n",
    "    def start(self):\n",
    "        print(\"Engine started.\")\n",
    "\n",
    "class Truck:\n",
    "    def __init__(self):\n",
    "        self.engine = Engine()  \n",
    "\n",
    "    def start_truck(self):\n",
    "        print(\"Starting the truck...\")\n",
    "        self.engine.start()\n",
    "\n",
    "\n",
    "my_truck = Truck()\n",
    "my_truck.start_truck()\n"
   ]
  },
  {
   "cell_type": "markdown",
   "id": "b1cec074",
   "metadata": {},
   "source": [
    "### Ans10)\n",
    "Purpose of @property in Python\n",
    "* The @property decorator allows you to define methods that behave like attributes.\n",
    "* It lets you access, modify, or compute an attribute value without changing the way you access it (using dot notation).\n",
    "* This means you can control how an attribute is retrieved or set while keeping a simple and clean interface.\n",
    "\n",
    "How @property Contributes to Encapsulation and Controlled Access\n",
    "* Encapsulation means hiding the internal details of an object and exposing only what is necessary.\n",
    "* With @property, you can keep the actual data private (e.g., store it in a private variable like _age), but provide a public getter method that controls how the data is accessed.\n",
    "* You can also create a setter method using @<property_name>.setter to validate or restrict changes to the attribute.\n",
    "* This controlled access helps prevent unintended or invalid changes to the attribute and maintains data integrity.\n",
    "\n"
   ]
  },
  {
   "cell_type": "code",
   "execution_count": 2,
   "id": "b0699be9",
   "metadata": {},
   "outputs": [
    {
     "name": "stdout",
     "output_type": "stream",
     "text": [
      "Radius: 5\n",
      "Diameter: 10\n",
      "Area: 78.53999999999999\n"
     ]
    }
   ],
   "source": [
    "class Circle:\n",
    "    def __init__(self, radius):\n",
    "        self.radius = radius\n",
    "\n",
    "    @property\n",
    "    def diameter(self):\n",
    "        return 2 * self.radius\n",
    "\n",
    "    @property\n",
    "    def area(self):\n",
    "        return 3.1416 * self.radius ** 2\n",
    "\n",
    "\n",
    "c = Circle(5)\n",
    "print(\"Radius:\", c.radius)\n",
    "print(\"Diameter:\", c.diameter)\n",
    "print(\"Area:\", c.area)\n"
   ]
  }
 ],
 "metadata": {
  "kernelspec": {
   "display_name": "Python 3",
   "language": "python",
   "name": "python3"
  },
  "language_info": {
   "codemirror_mode": {
    "name": "ipython",
    "version": 3
   },
   "file_extension": ".py",
   "mimetype": "text/x-python",
   "name": "python",
   "nbconvert_exporter": "python",
   "pygments_lexer": "ipython3",
   "version": "3.11.5"
  }
 },
 "nbformat": 4,
 "nbformat_minor": 5
}
